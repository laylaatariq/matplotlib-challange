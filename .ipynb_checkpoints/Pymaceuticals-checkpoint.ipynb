{
 "cells": [
  {
   "cell_type": "code",
   "execution_count": null,
   "metadata": {},
   "outputs": [],
   "source": [
    "# Include this line to make plots interactive\n",
    "%matplotlib notebook"
   ]
  },
  {
   "cell_type": "code",
   "execution_count": null,
   "metadata": {},
   "outputs": [],
   "source": [
    "#Importing libraries\n",
    "import matplotlib.pyplot as plt\n",
    "import pandas as pd\n",
    "import numpy as np\n",
    "from matplotlib import colors\n",
    "from matplotlib.ticker import FuncFormatter"
   ]
  },
  {
   "cell_type": "code",
   "execution_count": null,
   "metadata": {},
   "outputs": [],
   "source": [
    "# Hide warning messages in notebook\n",
    "import warnings\n",
    "warnings.filterwarnings('ignore')"
   ]
  },
  {
   "cell_type": "code",
   "execution_count": null,
   "metadata": {},
   "outputs": [],
   "source": [
    "# File to Load (Remember to Change These)\n",
    "mouse_drug_data_to_load = \"data/mouse_drug_data.csv\"\n",
    "clinical_trial_data_to_load = \"data/clinicaltrial_data.csv\""
   ]
  },
  {
   "cell_type": "code",
   "execution_count": null,
   "metadata": {},
   "outputs": [],
   "source": [
    "#Reading Mouse Drug Data File\n",
    "mouse_drug_data = pd.read_csv(mouse_drug_data_to_load)\n",
    "mouse_drug_data"
   ]
  },
  {
   "cell_type": "code",
   "execution_count": null,
   "metadata": {},
   "outputs": [],
   "source": [
    "#Reading data from the Cinical Trial sheet\n",
    "clinical_trial = pd.read_csv(clinical_trial_data_to_load)\n",
    "clinical_trial"
   ]
  },
  {
   "cell_type": "code",
   "execution_count": null,
   "metadata": {},
   "outputs": [],
   "source": [
    "#Merging the two data files into one dataset\n",
    "mouse_clinical_data = pd.merge(clinical_trial, mouse_drug_data, how=\"left\", on=['Mouse ID','Mouse ID'])\n",
    "\n",
    "#Displaying the table for preview\n",
    "mouse_clinical_data.head()"
   ]
  },
  {
   "cell_type": "markdown",
   "metadata": {},
   "source": [
    "# Tumor Response to Treatment"
   ]
  },
  {
   "cell_type": "code",
   "execution_count": null,
   "metadata": {},
   "outputs": [],
   "source": [
    "#Calculating the Mean Tumor VOlume  grouped by Drug and Timepoint\n",
    "meanTumor = mouse_clinical_data.groupby(['Drug', 'Timepoint'])['Tumor Volume (mm3)'].mean()\n",
    "\n",
    "#Converting the series into a dataframe\n",
    "tumorVolMean = pd.DataFrame(meanTumor).reset_index()\n",
    "\n",
    "#Displaying the dataframe\n",
    "tumorVolMean"
   ]
  },
  {
   "cell_type": "code",
   "execution_count": null,
   "metadata": {},
   "outputs": [],
   "source": [
    "#Calculating the Standard Error of Tumor Volumes grouped by Drug and TImepoint\n",
    "standardTumor = mouse_clinical_data.groupby(['Drug', 'Timepoint'])['Tumor Volume (mm3)'].sem()\n",
    "\n",
    "#Storing the data into a dataframe\n",
    "standardErrTumor = pd.DataFrame(standardTumor).reset_index()\n",
    "\n",
    "#Displaying the dataframe\n",
    "standardErrTumor.head()"
   ]
  },
  {
   "cell_type": "code",
   "execution_count": null,
   "metadata": {},
   "outputs": [],
   "source": [
    "#Re-Formatting the Mean Volume dataframe\n",
    "#Got this attrivute from \"https://hackernoon.com/reshaping-data-in-python-fa27dda2ff77\"\n",
    "formatted_tumorMean = tumorVolMean.pivot(index='Timepoint', columns='Drug', values='Tumor Volume (mm3)')\n",
    "\n",
    "#Displaying the formatted dataframe\n",
    "formatted_tumorMean"
   ]
  },
  {
   "cell_type": "code",
   "execution_count": null,
   "metadata": {},
   "outputs": [],
   "source": [
    "#Re-Formatting the Standard Error Volume dataframe\n",
    "formatted_standarderr = standardErrTumor.pivot(index='Timepoint', columns='Drug', values='Tumor Volume (mm3)')\n",
    "\n",
    "#Displaying the dataframe\n",
    "formatted_standarderr"
   ]
  },
  {
   "cell_type": "code",
   "execution_count": null,
   "metadata": {},
   "outputs": [],
   "source": [
    "#Generating the plot\n",
    "VolumeChart = formatted_tumorMean.plot(kind='line',yerr=formatted_standarderr, title= 'Tumor Response Treatment', figsize=(8,6), linewidth=1)\n",
    "plt.show()"
   ]
  },
  {
   "cell_type": "code",
   "execution_count": null,
   "metadata": {},
   "outputs": [],
   "source": [
    "#Setting limits for the plot\n",
    "VolumeChart.set_xlim(-1,50)\n",
    "VolumeChart.set_ylim(30,80)"
   ]
  },
  {
   "cell_type": "code",
   "execution_count": null,
   "metadata": {},
   "outputs": [],
   "source": [
    "#Defining marker list to generate it on the plot\n",
    "markers = ['H', '^', 'v', 's', '3', 'o', '1', '*','x','+']\n",
    "for i, line in enumerate(VolumeChart.get_lines()):\n",
    "    line.set_marker(markers[i])"
   ]
  },
  {
   "cell_type": "code",
   "execution_count": null,
   "metadata": {},
   "outputs": [],
   "source": [
    "#Displaying the legend with the updated markers\n",
    "plt.legend(loc=\"best\")"
   ]
  },
  {
   "cell_type": "code",
   "execution_count": null,
   "metadata": {},
   "outputs": [],
   "source": [
    "#Setting Plot labels\n",
    "VolumeChart.set_xlabel(\"TIme\")\n",
    "VolumeChart.set_ylabel(\"Volume(mm3)\")"
   ]
  },
  {
   "cell_type": "code",
   "execution_count": null,
   "metadata": {},
   "outputs": [],
   "source": [
    "#Aligning the plot\n",
    "plt.tight_layout()"
   ]
  },
  {
   "cell_type": "code",
   "execution_count": null,
   "metadata": {},
   "outputs": [],
   "source": [
    "fig = VolumeChart.get_figure()\n",
    "fig.savefig('Images/Tumor Treatment Response Chart')"
   ]
  },
  {
   "cell_type": "markdown",
   "metadata": {},
   "source": [
    "#  Metastatic Response to Treatment"
   ]
  },
  {
   "cell_type": "code",
   "execution_count": null,
   "metadata": {},
   "outputs": [],
   "source": [
    "#Calculating Mean Met Site Data grouped bu Drug and Timepoint\n",
    "meanMetSite = mouse_clinical_data.groupby(['Drug', 'Timepoint'])['Metastatic Sites'].mean()\n",
    "\n",
    "#storing Data in a dataframe\n",
    "meanMetSiteData = pd.DataFrame(meanMetSite)\n",
    "\n",
    "#Displaying Data\n",
    "meanMetSiteData.head()"
   ]
  },
  {
   "cell_type": "code",
   "execution_count": null,
   "metadata": {},
   "outputs": [],
   "source": [
    "#Calculating Mean Met Site Data grouped bu Drug and Timepoint\n",
    "standardErrMetSite = mouse_clinical_data.groupby(['Drug', 'Timepoint'])['Metastatic Sites'].sem()\n",
    "\n",
    "#storing Data in a dataframe\n",
    "standardErrMetSiteData = pd.DataFrame(standardErrMetSite)\n",
    "\n",
    "#Displaying Data\n",
    "standardErrMetSiteData.head()"
   ]
  },
  {
   "cell_type": "code",
   "execution_count": null,
   "metadata": {},
   "outputs": [],
   "source": [
    "#Re-Formatting the Mean Volume dataframe\n",
    "meanMetSiteData = meanMetSiteData.reset_index()\n",
    "formattedMeanMet = meanMetSiteData.pivot(index='Timepoint', columns='Drug', values='Metastatic Sites')\n",
    "\n",
    "#Displaying Data\n",
    "formattedMeanMet"
   ]
  },
  {
   "cell_type": "code",
   "execution_count": null,
   "metadata": {},
   "outputs": [],
   "source": [
    "#Re-Formatting the Standard Error Volume dataframe\n",
    "standardErrMetSiteData = standardErrMetSiteData.reset_index()\n",
    "formattedErrMet = standardErrMetSiteData.pivot(index='Timepoint', columns='Drug', values='Metastatic Sites')\n",
    "\n",
    "#Displaying Data\n",
    "formattedErrMet"
   ]
  },
  {
   "cell_type": "code",
   "execution_count": null,
   "metadata": {
    "scrolled": false
   },
   "outputs": [],
   "source": [
    "#Generating the plot\n",
    "metaStaticPlot =formattedMeanMet.plot(kind='line', yerr=formattedErrMet, title= 'Metastatic Sites', figsize=(8,6))\n",
    "plt.show()"
   ]
  },
  {
   "cell_type": "code",
   "execution_count": null,
   "metadata": {},
   "outputs": [],
   "source": [
    "#Setting plot labels\n",
    "metaStaticPlot.set_xlabel('Time')\n",
    "metaStaticPlot.set_ylabel('Metastatic Sites')"
   ]
  },
  {
   "cell_type": "code",
   "execution_count": null,
   "metadata": {},
   "outputs": [],
   "source": [
    "#Defining marker list to generate it on the plot\n",
    "markers = ['H', '^', 'v', 's', '3', 'o', '1', '*','x','+']\n",
    "for i, line in enumerate(metaStaticPlot.get_lines()):\n",
    "    line.set_marker(markers[i])"
   ]
  },
  {
   "cell_type": "code",
   "execution_count": null,
   "metadata": {},
   "outputs": [],
   "source": [
    "#Displaying the legend with the updated markers\n",
    "plt.legend(loc=\"best\")"
   ]
  },
  {
   "cell_type": "code",
   "execution_count": null,
   "metadata": {},
   "outputs": [],
   "source": [
    "#Aligning the plot\n",
    "plt.tight_layout()"
   ]
  },
  {
   "cell_type": "code",
   "execution_count": null,
   "metadata": {},
   "outputs": [],
   "source": [
    "fig = metaStaticPlot.get_figure()\n",
    "fig.savefig('Images/Metastatic Sites Chart')"
   ]
  },
  {
   "cell_type": "markdown",
   "metadata": {},
   "source": [
    "#  Survival Rates"
   ]
  },
  {
   "cell_type": "code",
   "execution_count": null,
   "metadata": {},
   "outputs": [],
   "source": [
    "#Calculating Count of Mice Grouped by Drug and Timepoint\n",
    "mouse = mouse_clinical_data.groupby(['Drug', 'Timepoint'])['Mouse ID'].count()\n",
    "\n",
    "#Converting to Dataframe\n",
    "mouseCount = pd.DataFrame(mouse)\n",
    "\n",
    "#Renaming the mouse count column\n",
    "mouseCount.rename(columns = {'Mouse ID' : 'Mouse Count'}, inplace=True)\n",
    "\n",
    "#Displaying Data\n",
    "mouseCount.head()"
   ]
  },
  {
   "cell_type": "code",
   "execution_count": null,
   "metadata": {},
   "outputs": [],
   "source": [
    "#Re-formatting the dataframe\n",
    "mouseCount = mouseCount.reset_index()\n",
    "formattedMouseCount = mouseCount.pivot(index='Timepoint', columns='Drug', values='Mouse Count')\n",
    "\n",
    "#Displaying Data\n",
    "formattedMouseCount"
   ]
  },
  {
   "cell_type": "code",
   "execution_count": null,
   "metadata": {
    "scrolled": false
   },
   "outputs": [],
   "source": [
    "#Generating Plot\n",
    "surRatesPlot = formattedMeanMet.plot(kind='line', title= 'Mouse Count', figsize=(10,8))"
   ]
  },
  {
   "cell_type": "code",
   "execution_count": null,
   "metadata": {},
   "outputs": [],
   "source": [
    "for i, line in enumerate(surRatesPlot.get_lines()):\n",
    "    line.set_marker(markers[i])"
   ]
  },
  {
   "cell_type": "code",
   "execution_count": null,
   "metadata": {},
   "outputs": [],
   "source": [
    "plt.legend(loc='best')"
   ]
  },
  {
   "cell_type": "code",
   "execution_count": null,
   "metadata": {},
   "outputs": [],
   "source": [
    "plt.tight_layout()"
   ]
  },
  {
   "cell_type": "code",
   "execution_count": null,
   "metadata": {},
   "outputs": [],
   "source": [
    "fig = surRatesPlot.get_figure()\n",
    "fig.savefig('Images/Mouse Count Chart')"
   ]
  },
  {
   "cell_type": "code",
   "execution_count": null,
   "metadata": {},
   "outputs": [],
   "source": [
    "plt.show()"
   ]
  },
  {
   "cell_type": "markdown",
   "metadata": {},
   "source": [
    "# Summary Bar Graph"
   ]
  },
  {
   "cell_type": "code",
   "execution_count": null,
   "metadata": {
    "scrolled": true
   },
   "outputs": [],
   "source": [
    "#Calculating the percent change for each drug\n",
    "change = (formatted_tumorMean.iloc[9,:] - formatted_tumorMean.iloc[0, :])/formatted_tumorMean.iloc[0, :] * 100\n",
    "\n",
    "summary_df = pd.DataFrame(change)\n",
    "summary_df['positive'] = change.values > 0\n",
    "\n",
    "summary_df.rename(columns={0: \"Percent\"}, inplace=True)\n",
    "\n",
    "summary_df"
   ]
  },
  {
   "cell_type": "code",
   "execution_count": null,
   "metadata": {
    "scrolled": false
   },
   "outputs": [],
   "source": [
    "#GOt color conditioning code from https://stackoverflow.com/questions/22311139/matplotlib-bar-chart-choose-color-if-value-is-positive-vs-value-is-negative\n",
    "fig, ax = plt.subplots()\n",
    "summaryPlot = summary_df['Percent'].plot(kind='bar', alpha=0.5, align='center',color=summary_df.positive.map({True: 'g', False: 'r'}), ax=ax, figsize = (8,6), title = 'Percentage Summary')\n"
   ]
  },
  {
   "cell_type": "code",
   "execution_count": null,
   "metadata": {},
   "outputs": [],
   "source": [
    "summaryPlot.hlines(0,-1,10, alpha=0.5, color='black')"
   ]
  },
  {
   "cell_type": "code",
   "execution_count": null,
   "metadata": {},
   "outputs": [],
   "source": [
    "summaryPlot.set_xticklabels(summary_df.index, rotation='vertical')"
   ]
  },
  {
   "cell_type": "code",
   "execution_count": null,
   "metadata": {},
   "outputs": [],
   "source": [
    "summaryPlot.set_xlim(-0.5, len(summary_df.index)-.25)"
   ]
  },
  {
   "cell_type": "code",
   "execution_count": null,
   "metadata": {},
   "outputs": [],
   "source": [
    "summaryPlot.set_ylabel('Percentage Change')"
   ]
  },
  {
   "cell_type": "code",
   "execution_count": null,
   "metadata": {},
   "outputs": [],
   "source": [
    "#Displaying values on the top of the bar graph, got this code from \n",
    "#http://composition.al/blog/2015/11/29/a-better-way-to-add-labels-to-bar-charts-with-matplotlib/ \n",
    "(y_bottom, y_top) = ax.get_ylim()\n",
    "y_height = y_top - y_bottom\n",
    "for i in ax.patches:\n",
    "    height = i.get_height()\n",
    "\n",
    "    # Fraction of axis height taken up by this rectangle\n",
    "    p_height = (height / y_height)\n",
    "\n",
    "    # If we can fit the label above the column, do that;\n",
    "    # otherwise, put it inside the column.\n",
    "    if p_height > 0.95: # arbitrary; 95% looked good to me.\n",
    "          label_position = height - (y_height * 0.05)\n",
    "    else:\n",
    "        label_position = height + (y_height * 0.01)\n",
    "\n",
    "    ax.text(i.get_x() + i.get_width()/2., label_position,\n",
    "            '%d' % int(height) + '%',\n",
    "            ha='center', va='bottom')\n"
   ]
  },
  {
   "cell_type": "code",
   "execution_count": null,
   "metadata": {},
   "outputs": [],
   "source": [
    "#Adding percent sign to the values, got this code from \n",
    "#https://stackoverflow.com/questions/36116718/how-to-change-bar-chart-values-to-percentages-matplotlib\n",
    "formatter = FuncFormatter(lambda y, pos: \"%d%%\" % (y))\n",
    "ax.yaxis.set_major_formatter(formatter)"
   ]
  },
  {
   "cell_type": "code",
   "execution_count": null,
   "metadata": {},
   "outputs": [],
   "source": [
    "plt.tight_layout()"
   ]
  },
  {
   "cell_type": "code",
   "execution_count": null,
   "metadata": {},
   "outputs": [],
   "source": [
    "fig = summaryPlot.get_figure()\n",
    "fig.savefig('Images/Mouse Count Chart')"
   ]
  },
  {
   "cell_type": "code",
   "execution_count": null,
   "metadata": {},
   "outputs": [],
   "source": [
    "plt.show()"
   ]
  }
 ],
 "metadata": {
  "kernelspec": {
   "display_name": "PythonData",
   "language": "python",
   "name": "pythondata"
  },
  "language_info": {
   "codemirror_mode": {
    "name": "ipython",
    "version": 3
   },
   "file_extension": ".py",
   "mimetype": "text/x-python",
   "name": "python",
   "nbconvert_exporter": "python",
   "pygments_lexer": "ipython3",
   "version": "3.6.9"
  }
 },
 "nbformat": 4,
 "nbformat_minor": 2
}
